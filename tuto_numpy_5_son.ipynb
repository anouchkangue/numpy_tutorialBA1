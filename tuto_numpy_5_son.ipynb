{
 "cells": [
  {
   "cell_type": "code",
   "execution_count": null,
   "metadata": {},
   "outputs": [],
   "source": [
    "import numpy as np\n",
    "import matplotlib.pyplot as plt\n",
    "%pylab inline"
   ]
  },
  {
   "cell_type": "code",
   "execution_count": null,
   "metadata": {
    "collapsed": true
   },
   "outputs": [],
   "source": [
    "import urllib\n",
    "import pyaudio\n",
    "import wave"
   ]
  },
  {
   "cell_type": "markdown",
   "metadata": {},
   "source": [
    "# Lire des données depuis un fichier son"
   ]
  },
  {
   "cell_type": "code",
   "execution_count": null,
   "metadata": {},
   "outputs": [],
   "source": [
    "url = 'http://www.nch.com.au/acm/11k16bitpcm.wav'\n",
    "tmp_file,_ = urllib.urlretrieve (url)\n",
    "tmp_file"
   ]
  },
  {
   "cell_type": "code",
   "execution_count": null,
   "metadata": {},
   "outputs": [],
   "source": [
    "wf = wave.open(tmp_file, 'rb')\n",
    "wf"
   ]
  },
  {
   "cell_type": "code",
   "execution_count": null,
   "metadata": {},
   "outputs": [],
   "source": [
    "p = pyaudio.PyAudio()\n",
    "stream = p.open(format=p.get_format_from_width(wf.getsampwidth()),\n",
    "                channels=wf.getnchannels(),\n",
    "                rate=wf.getframerate(),\n",
    "                output=True)\n",
    "\n",
    "data = wf.readframes(-1)\n",
    "stream.write(data)\n",
    "\n",
    "stream.stop_stream()\n",
    "stream.close()\n"
   ]
  },
  {
   "cell_type": "code",
   "execution_count": null,
   "metadata": {},
   "outputs": [],
   "source": [
    "print(type(data),len(data))\n",
    "npdata = np.fromstring(data, dtype=np.int16)"
   ]
  },
  {
   "cell_type": "code",
   "execution_count": null,
   "metadata": {},
   "outputs": [],
   "source": [
    "npdata.shape"
   ]
  },
  {
   "cell_type": "code",
   "execution_count": null,
   "metadata": {},
   "outputs": [],
   "source": [
    "plt.figure(figsize=[20,10])\n",
    "plt.subplot(3,1,1)\n",
    "plt.plot(npdata)\n",
    "plt.subplot(3,1,2)\n",
    "plt.plot(npdata[:20000])\n",
    "plt.subplot(3,1,3)\n",
    "plt.plot(npdata[:4000])\n"
   ]
  },
  {
   "cell_type": "code",
   "execution_count": null,
   "metadata": {
    "collapsed": true
   },
   "outputs": [],
   "source": [
    "stream = p.open(format=p.get_format_from_width(wf.getsampwidth()),\n",
    "                channels=wf.getnchannels(),\n",
    "                rate=wf.getframerate(),\n",
    "                output=True)\n",
    "\n",
    "interval = {'thank':[500,2000],'you':[2000,3500]}\n",
    "\n",
    "def out(stream,npdata):\n",
    "        stream.write(npdata.tostring())"
   ]
  },
  {
   "cell_type": "code",
   "execution_count": null,
   "metadata": {},
   "outputs": [],
   "source": [
    "word = 'thank'\n",
    "out(stream,npdata[interval[word][0]:interval[word][1]])"
   ]
  },
  {
   "cell_type": "code",
   "execution_count": null,
   "metadata": {},
   "outputs": [],
   "source": [
    "word = 'you'\n",
    "out(stream,npdata[interval[word][0]:interval[word][1]])"
   ]
  },
  {
   "cell_type": "markdown",
   "metadata": {},
   "source": [
    "# split"
   ]
  },
  {
   "cell_type": "code",
   "execution_count": null,
   "metadata": {
    "collapsed": true
   },
   "outputs": [],
   "source": [
    "from scipy.signal import convolve"
   ]
  },
  {
   "cell_type": "code",
   "execution_count": null,
   "metadata": {},
   "outputs": [],
   "source": [
    "# filtrage par convolution\n",
    "w = 100\n",
    "lp = convolve(np.abs(npdata),np.ones(w)/w,mode='same')\n",
    "\n",
    "# détection des 'blancs'\n",
    "th = lp<3000\n",
    "\n",
    "plt.figure(figsize=[20,10])\n",
    "plt.plot(npdata[:4000],label='input')\n",
    "plt.plot(lp[:4000],label='filtered')\n",
    "plt.plot(th[:4000]*10000,label='blank')\n",
    "plt.legend();"
   ]
  },
  {
   "cell_type": "markdown",
   "metadata": {},
   "source": [
    "# silencing"
   ]
  },
  {
   "cell_type": "code",
   "execution_count": null,
   "metadata": {},
   "outputs": [],
   "source": [
    "silenced = npdata.copy()\n",
    "silenced[th] = 0\n",
    "\n",
    "plt.figure(figsize=[20,10])\n",
    "plt.plot(npdata[:4000],label='input')\n",
    "plt.plot(silenced[:4000],label='silenced')\n",
    "plt.legend();"
   ]
  },
  {
   "cell_type": "code",
   "execution_count": null,
   "metadata": {},
   "outputs": [],
   "source": [
    "out(stream,silenced)"
   ]
  },
  {
   "cell_type": "markdown",
   "metadata": {},
   "source": [
    "# split words"
   ]
  },
  {
   "cell_type": "code",
   "execution_count": null,
   "metadata": {},
   "outputs": [],
   "source": [
    "# milieu des intervals\n",
    "th[0] = 0 # force le début du premier blanc\n",
    "dth = np.diff(th*1)\n",
    "\n",
    "i_up = np.where(dth>0)[0]\n",
    "i_down = np.where(dth<0)[0]\n",
    "\n",
    "mid_blanks = [(start+stop)/2 for start,stop in zip(i_up,i_down)]\n",
    "\n",
    "plt.plot(dth[:4000])\n",
    "plt.gca().set_ylim(-1.1,1.1)\n",
    "plt.gca().set_xlim(-100)\n",
    "ax = plt.gca()\n",
    "ax.vlines(mid_blanks, 0, 1, transform=ax.get_xaxis_transform(), colors='r')"
   ]
  },
  {
   "cell_type": "code",
   "execution_count": null,
   "metadata": {},
   "outputs": [],
   "source": [
    "words = {}\n",
    "for i,(s0,s1) in enumerate(zip(mid_blanks,mid_blanks[1:])):\n",
    "    words['w_%02d'%i] = {'s':(s0,s1),'data':npdata[s0:s1],'duration':s1-s0}\n"
   ]
  },
  {
   "cell_type": "markdown",
   "metadata": {},
   "source": [
    "# mot le plus long"
   ]
  },
  {
   "cell_type": "code",
   "execution_count": null,
   "metadata": {},
   "outputs": [],
   "source": [
    "l_k,l_v = sorted(words.items(),key=lambda x:x[1]['duration'],reverse=True)[0]"
   ]
  },
  {
   "cell_type": "code",
   "execution_count": null,
   "metadata": {},
   "outputs": [],
   "source": [
    "out(stream,l_v['data'])"
   ]
  },
  {
   "cell_type": "markdown",
   "metadata": {},
   "source": [
    "# reverse !"
   ]
  },
  {
   "cell_type": "code",
   "execution_count": null,
   "metadata": {
    "collapsed": true
   },
   "outputs": [],
   "source": [
    "out(stream,l_v['data'][-1::-1])"
   ]
  },
  {
   "cell_type": "markdown",
   "metadata": {},
   "source": [
    "# texte aléatoire"
   ]
  },
  {
   "cell_type": "code",
   "execution_count": null,
   "metadata": {},
   "outputs": [],
   "source": [
    "# distribution des tailles\n",
    "duration = [v['duration'] for v in words.itervalues()]\n",
    "plt.hist(duration,bins=range(0,3000,100));"
   ]
  },
  {
   "cell_type": "code",
   "execution_count": null,
   "metadata": {},
   "outputs": [],
   "source": [
    "from time import sleep\n",
    "for i in range(10):\n",
    "    random_k = random.choice(words.keys())\n",
    "    d = words[random_k]['duration']\n",
    "    while d<1500:\n",
    "        random_k = random.choice(words.keys())\n",
    "        d = words[random_k]['duration']\n",
    "        \n",
    "    print(random_k)\n",
    "    out(stream,words[random_k]['data'])\n",
    "        \n",
    "    "
   ]
  },
  {
   "cell_type": "markdown",
   "metadata": {},
   "source": [
    "# écho"
   ]
  },
  {
   "cell_type": "code",
   "execution_count": null,
   "metadata": {},
   "outputs": [],
   "source": [
    "echo = npdata.copy()\n",
    "delay = 4000\n",
    "echo = np.pad(echo,delay*2,mode='constant',constant_values = 0)\n",
    "for i in range(echo.size-delay):\n",
    "    echo[i+delay-1] += echo[i]/3. "
   ]
  },
  {
   "cell_type": "code",
   "execution_count": null,
   "metadata": {},
   "outputs": [],
   "source": [
    "out(stream,echo)"
   ]
  },
  {
   "cell_type": "markdown",
   "metadata": {},
   "source": [
    "# Thank you"
   ]
  },
  {
   "cell_type": "code",
   "execution_count": null,
   "metadata": {},
   "outputs": [],
   "source": [
    "v = np.append(words['w_00']['data'],words['w_01']['data'])\n",
    "out(stream,v)"
   ]
  },
  {
   "cell_type": "code",
   "execution_count": null,
   "metadata": {
    "collapsed": true
   },
   "outputs": [],
   "source": []
  },
  {
   "cell_type": "code",
   "execution_count": null,
   "metadata": {
    "collapsed": true
   },
   "outputs": [],
   "source": [
    "stream.stop_stream()\n",
    "stream.close()"
   ]
  },
  {
   "cell_type": "code",
   "execution_count": null,
   "metadata": {
    "collapsed": true
   },
   "outputs": [],
   "source": []
  }
 ],
 "metadata": {
  "kernelspec": {
   "display_name": "Python 2",
   "language": "python",
   "name": "python2"
  },
  "language_info": {
   "codemirror_mode": {
    "name": "ipython",
    "version": 2
   },
   "file_extension": ".py",
   "mimetype": "text/x-python",
   "name": "python",
   "nbconvert_exporter": "python",
   "pygments_lexer": "ipython2",
   "version": "2.7.13"
  }
 },
 "nbformat": 4,
 "nbformat_minor": 2
}
